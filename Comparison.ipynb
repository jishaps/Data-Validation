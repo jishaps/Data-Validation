{
 "cells": [
  {
   "cell_type": "markdown",
   "id": "1755ed68",
   "metadata": {},
   "source": [
    "# Data Validation"
   ]
  },
  {
   "cell_type": "code",
   "execution_count": 12,
   "id": "550cbd18",
   "metadata": {},
   "outputs": [],
   "source": [
    "import pandas as pd"
   ]
  },
  {
   "cell_type": "code",
   "execution_count": 20,
   "id": "e1892526",
   "metadata": {},
   "outputs": [
    {
     "name": "stdout",
     "output_type": "stream",
     "text": [
      "                             category  Both sexes new  Male new  Female new  \\\n",
      "0               Oral cavity & pharynx           59660     42500       17160   \n",
      "1                    Digestive system          362200    201190      161010   \n",
      "2                  Respiratory system          245700    124700      121000   \n",
      "3                      Bones & joints            3770      2150        1620   \n",
      "4       Soft tissue (including heart)           13520      7600        5920   \n",
      "5   Skin (excluding basal & squamous)          112690     65740       46950   \n",
      "6                       Breast Cancer          319750      2800      316950   \n",
      "7                      Genital system          444610    325690      118920   \n",
      "8                      Urinary system          170470    120320       50150   \n",
      "9                         Eye & orbit            3140      1620        1520   \n",
      "10       Brain & other nervous system           24820     14040       10780   \n",
      "11                   Endocrine system           52140     16450       35690   \n",
      "12                           Lymphoma           89070     49980       39090   \n",
      "13                            Myeloma           36110     20030       16080   \n",
      "14                           Leukemia           66890     38720       28170   \n",
      "15                             Others           37370     19720       17650   \n",
      "\n",
      "    Both sexes death  Male death  Female death  \n",
      "0              12770        9130          3641  \n",
      "1             174520      100250         74270  \n",
      "2             130200       68340         61860  \n",
      "3               2190        1240           950  \n",
      "4               5410        2960          2450  \n",
      "5              14110        9550          4560  \n",
      "6              42680         510         42170  \n",
      "7              71510       36880         34630  \n",
      "8              33140       22840         10300  \n",
      "9                490         270           220  \n",
      "10             18330       10170          8160  \n",
      "11              3440        1680          1760  \n",
      "12             20540       11780          8760  \n",
      "13             12030        6720          5310  \n",
      "14             23540       13500         10040  \n",
      "15             53220       28260         28960  \n"
     ]
    }
   ],
   "source": [
    "df1 = pd.read_excel('2025 age wise new cases and death 2.xlsx')\n",
    "\n",
    "print(df1)"
   ]
  },
  {
   "cell_type": "code",
   "execution_count": 21,
   "id": "d335944b",
   "metadata": {},
   "outputs": [
    {
     "name": "stdout",
     "output_type": "stream",
     "text": [
      "                             category  Both sexes new  Male new  Female new  \\\n",
      "0               Oral cavity & pharynx           59660     42500       17160   \n",
      "1                    Digestive system          362200    201190      161010   \n",
      "2                  Respiratory system          245700    124700      121000   \n",
      "3                      Bones & joints            3770      2150        1620   \n",
      "4       Soft tissue (including heart)           13520      7600        5920   \n",
      "5   Skin (excluding basal & squamous)          112690     65740       46950   \n",
      "6                              Breast          319750      2800      316950   \n",
      "7                      Genital system          444610    325690      118920   \n",
      "8                      Urinary system          170470    120320       50150   \n",
      "9                         Eye & orbit            3140      1620        1520   \n",
      "10       Brain & other nervous system           24820     14040       10780   \n",
      "11                   Endocrine system           52140     16450       35690   \n",
      "12                           Lymphoma           89070     49980       39090   \n",
      "13                            Myeloma           36110     20030       16080   \n",
      "14                           Leukemia           66890     38720       28170   \n",
      "15                             Others           37370     19720       17650   \n",
      "\n",
      "    Both sexes death  Male death  Female death  \n",
      "0              12770        9130          3640  \n",
      "1             174520      100250         74270  \n",
      "2             130200       68340         61860  \n",
      "3               2190        1240           950  \n",
      "4               5410        2960          2450  \n",
      "5              14110        9550          4560  \n",
      "6              42680         510         42170  \n",
      "7              71510       36880         34630  \n",
      "8              33140       22840         10300  \n",
      "9                490         270           220  \n",
      "10             18330       10170          8160  \n",
      "11              3440        1680          1760  \n",
      "12             20540       11780          8760  \n",
      "13             12030        6720          5310  \n",
      "14             23540       13500         10040  \n",
      "15             53220       28260         28960  \n"
     ]
    }
   ],
   "source": [
    "df2 = pd.read_excel('2025 age wise new cases and death.xlsx')\n",
    "\n",
    "print(df2)"
   ]
  },
  {
   "cell_type": "code",
   "execution_count": 22,
   "id": "d81a1101",
   "metadata": {},
   "outputs": [
    {
     "name": "stdout",
     "output_type": "stream",
     "text": [
      "False\n"
     ]
    }
   ],
   "source": [
    "print(df1.equals(df2))"
   ]
  },
  {
   "cell_type": "code",
   "execution_count": 24,
   "id": "2401d173",
   "metadata": {},
   "outputs": [
    {
     "name": "stdout",
     "output_type": "stream",
     "text": [
      "[[ True  True  True  True  True  True False]\n",
      " [ True  True  True  True  True  True  True]\n",
      " [ True  True  True  True  True  True  True]\n",
      " [ True  True  True  True  True  True  True]\n",
      " [ True  True  True  True  True  True  True]\n",
      " [ True  True  True  True  True  True  True]\n",
      " [False  True  True  True  True  True  True]\n",
      " [ True  True  True  True  True  True  True]\n",
      " [ True  True  True  True  True  True  True]\n",
      " [ True  True  True  True  True  True  True]\n",
      " [ True  True  True  True  True  True  True]\n",
      " [ True  True  True  True  True  True  True]\n",
      " [ True  True  True  True  True  True  True]\n",
      " [ True  True  True  True  True  True  True]\n",
      " [ True  True  True  True  True  True  True]\n",
      " [ True  True  True  True  True  True  True]]\n"
     ]
    }
   ],
   "source": [
    "comparevalues = df1.values == df2.values\n",
    "print(comparevalues)"
   ]
  },
  {
   "cell_type": "code",
   "execution_count": 25,
   "id": "ff729401",
   "metadata": {},
   "outputs": [],
   "source": [
    "import numpy as np"
   ]
  },
  {
   "cell_type": "code",
   "execution_count": 26,
   "id": "1f12cffa",
   "metadata": {},
   "outputs": [
    {
     "name": "stderr",
     "output_type": "stream",
     "text": [
      "/var/folders/6z/dfhp0g4x2w99qncvlnms15cr0000gn/T/ipykernel_2420/3692723008.py:4: FutureWarning: Setting an item of incompatible dtype is deprecated and will raise an error in a future version of pandas. Value '3641 --> 3640' has dtype incompatible with int64, please explicitly cast to a compatible dtype first.\n",
      "  df1.iloc[item[0],item[1]] = '{} --> {}'.format(df1.iloc[item[0],item[1]],df2.iloc[item[0],item[1]])\n"
     ]
    }
   ],
   "source": [
    "rows,cols = np.where(comparevalues==False)\n",
    "\n",
    "for item in zip(rows,cols):\n",
    "    df1.iloc[item[0],item[1]] = '{} --> {}'.format(df1.iloc[item[0],item[1]],df2.iloc[item[0],item[1]])\n",
    "\n",
    "df1.to_excel('Data Validation Output.xlsx',index=False,header=True)"
   ]
  }
 ],
 "metadata": {
  "kernelspec": {
   "display_name": "pandas_venv",
   "language": "python",
   "name": "python3"
  },
  "language_info": {
   "codemirror_mode": {
    "name": "ipython",
    "version": 3
   },
   "file_extension": ".py",
   "mimetype": "text/x-python",
   "name": "python",
   "nbconvert_exporter": "python",
   "pygments_lexer": "ipython3",
   "version": "3.13.2"
  }
 },
 "nbformat": 4,
 "nbformat_minor": 5
}
